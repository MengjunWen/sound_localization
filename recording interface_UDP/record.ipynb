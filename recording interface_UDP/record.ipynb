{
 "cells": [
  {
   "cell_type": "markdown",
   "metadata": {},
   "source": [
    "# Start stop recording"
   ]
  },
  {
   "cell_type": "code",
   "execution_count": 1,
   "metadata": {},
   "outputs": [
    {
     "data": {
      "application/vnd.jupyter.widget-view+json": {
       "model_id": "c79d6286f92b42f996990cc47d786a3c",
       "version_major": 2,
       "version_minor": 0
      },
      "text/plain": [
       "ToggleButton(value=False, description='Start Recording', icon='microphone', tooltip='Click to start/stop recor…"
      ]
     },
     "metadata": {},
     "output_type": "display_data"
    },
    {
     "data": {
      "application/vnd.jupyter.widget-view+json": {
       "model_id": "24f5eae3e3eb4b6d9538c56a79a91298",
       "version_major": 2,
       "version_minor": 0
      },
      "text/plain": [
       "Button(button_style='danger', description='Erase Recordings', icon='trash', style=ButtonStyle(), tooltip='Clic…"
      ]
     },
     "metadata": {},
     "output_type": "display_data"
    }
   ],
   "source": [
    "import ipywidgets as widgets\n",
    "from IPython.display import display\n",
    "import recorders\n",
    "\n",
    "# Create a toggle button\n",
    "toggle_button = widgets.ToggleButton(\n",
    "    value=False,\n",
    "    description='Start Recording',\n",
    "    disabled=False,\n",
    "    button_style='', # 'success', 'info', 'warning', 'danger' or ''\n",
    "    tooltip='Click to start/stop recording',\n",
    "    icon='microphone' # (FontAwesome names without the `fa-` prefix)\n",
    ")\n",
    "\n",
    "# Define the function to change the button description\n",
    "def on_button_click(change):\n",
    "    recorder = recorders.Recorders()\n",
    "    if change['new']:\n",
    "        toggle_button.description = 'Stop Recording'\n",
    "        recorder.start()\n",
    "    else:\n",
    "        toggle_button.description = 'Start Recording'\n",
    "        recorder.stop()\n",
    "\n",
    "# Observe the value change of the button\n",
    "toggle_button.observe(on_button_click, names='value')\n",
    "\n",
    "# Create an erase button\n",
    "erase_button = widgets.Button(\n",
    "    description='Erase Recordings',\n",
    "    disabled=False,\n",
    "    button_style='danger', # 'success', 'info', 'warning', 'danger' or ''\n",
    "    tooltip='Click to erase all recordings',\n",
    "    icon='trash' # (FontAwesome names without the `fa-` prefix)\n",
    ")\n",
    "\n",
    "# Define the function to erase recordings\n",
    "def on_erase_button_click(b):\n",
    "    recorder = recorders.Recorders()\n",
    "    recorder.erase()\n",
    "    print(\"All recordings erased.\")\n",
    "\n",
    "# Attach the function to the button click event\n",
    "erase_button.on_click(on_erase_button_click)\n",
    "\n",
    "# Display the button\n",
    "display(toggle_button)\n",
    "\n",
    "# Display the erase button\n",
    "display(erase_button)"
   ]
  },
  {
   "cell_type": "markdown",
   "metadata": {},
   "source": [
    "# Find recorders"
   ]
  },
  {
   "cell_type": "code",
   "execution_count": 2,
   "metadata": {},
   "outputs": [
    {
     "name": "stdout",
     "output_type": "stream",
     "text": [
      "Discovered ESP32 device at IP address: 192.168.43.14\n"
     ]
    }
   ],
   "source": [
    "recorder = recorders.Recorders()\n",
    "await recorder.find()"
   ]
  },
  {
   "cell_type": "code",
   "execution_count": 5,
   "metadata": {},
   "outputs": [
    {
     "data": {
      "text/plain": [
       "['System Volume Information',\n",
       " 'ESP32_Audio_Device_1732625908.bin',\n",
       " 'ESP32_Audio_Device_1732625921.bin']"
      ]
     },
     "execution_count": 5,
     "metadata": {},
     "output_type": "execute_result"
    }
   ],
   "source": [
    "recorder.list_recordings(\"192.168.43.14\")\n",
    "recorder.download_latest_recording(\"192.168.2.10\")"
   ]
  },
  {
   "cell_type": "code",
   "execution_count": 6,
   "metadata": {},
   "outputs": [
    {
     "name": "stdout",
     "output_type": "stream",
     "text": [
      "Loaded 1105408 bytes from the file.\n",
      "WAV file created at ../output_files/ESP32_Audio_Device_1731520064.wav\n"
     ]
    }
   ],
   "source": [
    "import wave\n",
    "import numpy as np\n",
    "import os\n",
    "# Load the binary file into a variable\n",
    "file_path = 'C:\\\\Users\\\\calvi\\\\Documents\\\\Projects\\\\sound_localization\\\\recording interface\\\\raw_files\\\\ESP32_Audio_Device_1731520064.bin'\n",
    "with open(file_path, 'rb') as file:\n",
    "    binary_data = file.read()\n",
    "\n",
    "print(f\"Loaded {len(binary_data)} bytes from the file.\")\n",
    "\n",
    "# Define parameters for the WAV file\n",
    "channels = 2  # stereo\n",
    "sample_width = 2  # 2 bytes for PCM 16-bit\n",
    "frame_rate = 44100  # 16 kHz\n",
    "n_frames = len(binary_data) // sample_width\n",
    "\n",
    "\n",
    "# Create a WAV file\n",
    "output_path = '../output_files/ESP32_Audio_Device_1731520064.wav'\n",
    "\n",
    "# Ensure the directory exists\n",
    "os.makedirs(os.path.dirname(output_path), exist_ok=True)\n",
    "with wave.open(output_path, 'wb') as wav_file:\n",
    "    wav_file.setnchannels(channels)\n",
    "    wav_file.setsampwidth(sample_width)\n",
    "    wav_file.setframerate(frame_rate)\n",
    "    wav_file.writeframes(binary_data)\n",
    "\n",
    "print(f\"WAV file created at {output_path}\")"
   ]
  }
 ],
 "metadata": {
  "kernelspec": {
   "display_name": "Python 3 (ipykernel)",
   "language": "python",
   "name": "python3"
  },
  "language_info": {
   "codemirror_mode": {
    "name": "ipython",
    "version": 3
   },
   "file_extension": ".py",
   "mimetype": "text/x-python",
   "name": "python",
   "nbconvert_exporter": "python",
   "pygments_lexer": "ipython3",
   "version": "3.8.7"
  }
 },
 "nbformat": 4,
 "nbformat_minor": 4
}
