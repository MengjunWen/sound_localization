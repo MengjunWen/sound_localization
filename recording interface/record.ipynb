{
 "cells": [
  {
   "cell_type": "markdown",
   "metadata": {},
   "source": [
    "# Start stop recording"
   ]
  },
  {
   "cell_type": "code",
   "execution_count": 1,
   "metadata": {},
   "outputs": [
    {
     "data": {
      "application/vnd.jupyter.widget-view+json": {
       "model_id": "1b47bc6333e447fa970b43ad6133bcd9",
       "version_major": 2,
       "version_minor": 0
      },
      "text/plain": [
       "ToggleButton(value=False, description='Start Recording', icon='microphone', tooltip='Click to start/stop recor…"
      ]
     },
     "metadata": {},
     "output_type": "display_data"
    },
    {
     "data": {
      "application/vnd.jupyter.widget-view+json": {
       "model_id": "e614437076984b838a8e0f73b68b770c",
       "version_major": 2,
       "version_minor": 0
      },
      "text/plain": [
       "Button(button_style='danger', description='Erase Recordings', icon='trash', style=ButtonStyle(), tooltip='Clic…"
      ]
     },
     "metadata": {},
     "output_type": "display_data"
    }
   ],
   "source": [
    "import ipywidgets as widgets\n",
    "from IPython.display import display\n",
    "import recorders\n",
    "\n",
    "# Create a toggle button\n",
    "toggle_button = widgets.ToggleButton(\n",
    "    value=False,\n",
    "    description='Start Recording',\n",
    "    disabled=False,\n",
    "    button_style='', # 'success', 'info', 'warning', 'danger' or ''\n",
    "    tooltip='Click to start/stop recording',\n",
    "    icon='microphone' # (FontAwesome names without the `fa-` prefix)\n",
    ")\n",
    "\n",
    "# Define the function to change the button description\n",
    "def on_button_click(change):\n",
    "    recorder = recorders.Recorders()\n",
    "    if change['new']:\n",
    "        toggle_button.description = 'Stop Recording'\n",
    "        recorder.start()\n",
    "    else:\n",
    "        toggle_button.description = 'Start Recording'\n",
    "        recorder.stop()\n",
    "\n",
    "# Observe the value change of the button\n",
    "toggle_button.observe(on_button_click, names='value')\n",
    "\n",
    "# Create an erase button\n",
    "erase_button = widgets.Button(\n",
    "    description='Erase Recordings',\n",
    "    disabled=False,\n",
    "    button_style='danger', # 'success', 'info', 'warning', 'danger' or ''\n",
    "    tooltip='Click to erase all recordings',\n",
    "    icon='trash' # (FontAwesome names without the `fa-` prefix)\n",
    ")\n",
    "\n",
    "# Define the function to erase recordings\n",
    "def on_erase_button_click(b):\n",
    "    recorder = recorders.Recorders()\n",
    "    recorder.erase()\n",
    "    print(\"All recordings erased.\")\n",
    "\n",
    "# Attach the function to the button click event\n",
    "erase_button.on_click(on_erase_button_click)\n",
    "\n",
    "# Display the button\n",
    "display(toggle_button)\n",
    "\n",
    "# Display the erase button\n",
    "display(erase_button)"
   ]
  },
  {
   "cell_type": "markdown",
   "metadata": {},
   "source": [
    "# Find recorders"
   ]
  },
  {
   "cell_type": "code",
   "execution_count": 2,
   "metadata": {},
   "outputs": [
    {
     "name": "stdout",
     "output_type": "stream",
     "text": [
      "Discovered ESP32 device at IP address: 192.168.2.10\n"
     ]
    }
   ],
   "source": [
    "recorder = recorders.Recorders()\n",
    "await recorder.find()"
   ]
  },
  {
   "cell_type": "code",
   "execution_count": null,
   "metadata": {},
   "outputs": [
    {
     "ename": "AttributeError",
     "evalue": "'Recorders' object has no attribute 'latest_recording'",
     "output_type": "error",
     "traceback": [
      "\u001b[1;31m---------------------------------------------------------------------------\u001b[0m",
      "\u001b[1;31mAttributeError\u001b[0m                            Traceback (most recent call last)",
      "Cell \u001b[1;32mIn[3], line 2\u001b[0m\n\u001b[0;32m      1\u001b[0m \u001b[38;5;66;03m# recorder.list_recordings(\"192.168.2.10\")\u001b[39;00m\n\u001b[1;32m----> 2\u001b[0m \u001b[43mrecorder\u001b[49m\u001b[38;5;241;43m.\u001b[39;49m\u001b[43mlatest_recording\u001b[49m(\u001b[38;5;124m\"\u001b[39m\u001b[38;5;124m192.168.2.10\u001b[39m\u001b[38;5;124m\"\u001b[39m)\n",
      "\u001b[1;31mAttributeError\u001b[0m: 'Recorders' object has no attribute 'latest_recording'"
     ]
    }
   ],
   "source": [
    "# recorder.list_recordings(\"192.168.2.10\")\n",
    "recorder.download_latest_recording(\"192.168.2.10\")"
   ]
  }
 ],
 "metadata": {
  "kernelspec": {
   "display_name": "Python 3",
   "language": "python",
   "name": "python3"
  },
  "language_info": {
   "codemirror_mode": {
    "name": "ipython",
    "version": 3
   },
   "file_extension": ".py",
   "mimetype": "text/x-python",
   "name": "python",
   "nbconvert_exporter": "python",
   "pygments_lexer": "ipython3",
   "version": "3.12.6"
  }
 },
 "nbformat": 4,
 "nbformat_minor": 2
}
